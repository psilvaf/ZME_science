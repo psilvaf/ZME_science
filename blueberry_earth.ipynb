{
  "nbformat": 4,
  "nbformat_minor": 0,
  "metadata": {
    "colab": {
      "name": "blueberry_earth.ipynb",
      "provenance": [],
      "authorship_tag": "ABX9TyON7yX8caYDwN0Y+4rsWose",
      "include_colab_link": true
    },
    "kernelspec": {
      "name": "python3",
      "display_name": "Python 3"
    },
    "language_info": {
      "name": "python"
    }
  },
  "cells": [
    {
      "cell_type": "markdown",
      "metadata": {
        "id": "view-in-github",
        "colab_type": "text"
      },
      "source": [
        "<a href=\"https://colab.research.google.com/github/psilvaf/ZME_science/blob/main/blueberry_earth.ipynb\" target=\"_parent\"><img src=\"https://colab.research.google.com/assets/colab-badge.svg\" alt=\"Open In Colab\"/></a>"
      ]
    },
    {
      "cell_type": "markdown",
      "metadata": {
        "id": "hre85M6kmeiq"
      },
      "source": [
        "# The Blueberry Earth"
      ]
    },
    {
      "cell_type": "markdown",
      "metadata": {
        "id": "EN7qGWHOmmye"
      },
      "source": [
        "## Earth's gravity:\n",
        "\n",
        "* ### Earth's Mass: $M$\n",
        "* ### $F = \\frac{G M m}{R^2} = m g$\n",
        "* ### $g = \\frac{GM}{R^2}$\n",
        "* ### $\\rho = \\frac{M}{V}$\n",
        "\n"
      ]
    },
    {
      "cell_type": "code",
      "metadata": {
        "id": "C2jTFwa4oFz_"
      },
      "source": [
        "# Constants\n",
        "G = 6.67430 * 10**(-11) \n",
        "R = 6371.0 *1000 # mean radius\n",
        "import numpy as np\n",
        "V = 1.08321*10**21"
      ],
      "execution_count": null,
      "outputs": []
    },
    {
      "cell_type": "code",
      "metadata": {
        "colab": {
          "base_uri": "https://localhost:8080/"
        },
        "id": "XP7CKTOambc5",
        "outputId": "dc2c4125-7e86-4337-e0cb-f18faa00490a"
      },
      "source": [
        "rho = 700 #Blueberry density in kg/m³\n",
        "M = V * rho \n",
        "g=G*M/(R**2)\n",
        "print(\"The planet's g is: \"+str(round(g,2))+' m/s²')"
      ],
      "execution_count": null,
      "outputs": [
        {
          "output_type": "stream",
          "text": [
            "The planet's g is: 1.25 m/s²\n"
          ],
          "name": "stdout"
        }
      ]
    },
    {
      "cell_type": "code",
      "metadata": {
        "colab": {
          "base_uri": "https://localhost:8080/"
        },
        "id": "ufjkOQ8unx1-",
        "outputId": "fc19c12c-f898-4cd9-d0f8-3dc4ffe68523"
      },
      "source": [
        "M_0 = 5.97237*10**24\n",
        "print(\"Losing nearly: \" + str(round(M/M_0,2)*100)+'% of its mass.')"
      ],
      "execution_count": null,
      "outputs": [
        {
          "output_type": "stream",
          "text": [
            "Losing nearly: 13.0% of its mass.\n"
          ],
          "name": "stdout"
        }
      ]
    },
    {
      "cell_type": "markdown",
      "metadata": {
        "id": "HQ4704KftJHp"
      },
      "source": [
        "## Moon\n",
        "\n",
        "$g_{moon} = 1.625$ m/s²"
      ]
    },
    {
      "cell_type": "code",
      "metadata": {
        "colab": {
          "base_uri": "https://localhost:8080/"
        },
        "id": "URy9KJ5bsP3y",
        "outputId": "86a808c5-dd07-45bb-9a5f-22a9c5da6a0c"
      },
      "source": [
        "g_m=1.625\n",
        "r=g/g_m\n",
        "print(\"A planet made of berries has nearly: \" +str(round(r,2)*100)+\"% of the Moon's gravity.\")"
      ],
      "execution_count": null,
      "outputs": [
        {
          "output_type": "stream",
          "text": [
            "A planet made of berries has nearly: 77.0% of the Moon's gravity.\n"
          ],
          "name": "stdout"
        }
      ]
    },
    {
      "cell_type": "markdown",
      "metadata": {
        "id": "9JjyAZzSMYAY"
      },
      "source": [
        "## Coalescence\n",
        "\n",
        "* ### $P = \\rho g h$\n",
        " Assuming blueberries break with $ P_{break} = 0.1 \\cdot g_{Earth}/ 10^{-4} N \\cdot m^{-2} $\n",
        "\n",
        "\n",
        "\n",
        "> $g_{Earth}$ = 10 m/s²\n",
        "\n"
      ]
    },
    {
      "cell_type": "code",
      "metadata": {
        "id": "nzI7IW6HqUJU",
        "colab": {
          "base_uri": "https://localhost:8080/"
        },
        "outputId": "c61f3bb7-5057-49e5-a4cc-ae6bd116867e"
      },
      "source": [
        "P_break=0.1*10/10**(-4)\n",
        "P_break"
      ],
      "execution_count": null,
      "outputs": [
        {
          "output_type": "execute_result",
          "data": {
            "text/plain": [
              "10000.0"
            ]
          },
          "metadata": {
            "tags": []
          },
          "execution_count": 5
        }
      ]
    },
    {
      "cell_type": "markdown",
      "metadata": {
        "id": "S23XrbIvOxNc"
      },
      "source": [
        "At what deth the berries break?"
      ]
    },
    {
      "cell_type": "code",
      "metadata": {
        "id": "WV4PzbM_pYFw",
        "colab": {
          "base_uri": "https://localhost:8080/"
        },
        "outputId": "ccb0f0a9-2f99-40be-dc89-9efdaabf86d6"
      },
      "source": [
        "h = P_break/(rho*g)\n",
        "h"
      ],
      "execution_count": null,
      "outputs": [
        {
          "output_type": "execute_result",
          "data": {
            "text/plain": [
              "11.457787034971654"
            ]
          },
          "metadata": {
            "tags": []
          },
          "execution_count": 6
        }
      ]
    },
    {
      "cell_type": "markdown",
      "metadata": {
        "id": "1h82_6V8i4_s"
      },
      "source": [
        "## Same mass as the initial state\n",
        "\n",
        "* ### $M_i = M_f$\n",
        "* ### $M = V*\\rho $\n",
        "* ### $\\frac{4 \\pi R_{pulp}^3}{3} \\rho_{pulp}=\\frac{4 \\pi R_{Earth}^3}{3} \\rho_{Earth} $\n",
        "* ### $R_{pulp}$ = $\\left(\\frac{\\rho_{berries}}{\\rho_{pulp}}\\right)^{1/3}R_{Earth}$\n",
        "* ### $\\rho_{pulp}=1000 kg/m³$"
      ]
    },
    {
      "cell_type": "code",
      "metadata": {
        "id": "UxbJSuJJO4PY"
      },
      "source": [
        "R_pulp= ((rho/1000)**(1/3))*R"
      ],
      "execution_count": 25,
      "outputs": []
    },
    {
      "cell_type": "code",
      "metadata": {
        "colab": {
          "base_uri": "https://localhost:8080/"
        },
        "id": "yoS6WQ42n8R8",
        "outputId": "2b691bcb-3ddd-4547-8222-b8e5fb7dba52"
      },
      "source": [
        "print(\"A planet made of berries has nearly: \" +str(round(R_pulp/R,2)*100)+\"% of the Earth's radius.\")"
      ],
      "execution_count": null,
      "outputs": [
        {
          "output_type": "stream",
          "text": [
            "A planet made of berries has nearly: 89.0% of the Earth's radius.\n"
          ],
          "name": "stdout"
        }
      ]
    },
    {
      "cell_type": "code",
      "metadata": {
        "colab": {
          "base_uri": "https://localhost:8080/"
        },
        "id": "CEYEKEuryykj",
        "outputId": "b76dc2d5-1b0f-4370-cdf0-b75a7c7bfe78"
      },
      "source": [
        "g_pulp=G*M/(R_pulp**2)\n",
        "print(\"The gravity on the pulp surface is just gpulp = 1.5832ms−1, 16% of normal gravity - almost exactly lunar gravity: \"+ str(round(g_pulp,2))+\"m/s²\")\n",
        "print(\"The gravity is now: \" +str(round(g_pulp/g_m,2)*100)+\"% of the Moon's.\")"
      ],
      "execution_count": null,
      "outputs": [
        {
          "output_type": "stream",
          "text": [
            "The gravity on the pulp surface is just gpulp = 1.5832ms−1, 16% of normal gravity - almost exactly lunar gravity: 1.58m/s²\n",
            "The gravity is now: 97.0% of the Moon's.\n"
          ],
          "name": "stdout"
        }
      ]
    },
    {
      "cell_type": "markdown",
      "metadata": {
        "id": "5AhIShyhstlL"
      },
      "source": [
        "From [Wikipedia](https://en.wikipedia.org/wiki/Free-fall_time):\n",
        "\n",
        "\"Infall of a spherically-symmetric distribution of mass\n",
        "Now, consider a case where the mass $M$ is not a point mass, but is distributed in a spherically-symmetric distribution about the center, with an average mass density of $\\rho$,\n",
        "\n",
        "$\\rho ={\\frac  {3M}{4\\pi R^{3}}}$ ,\n",
        "where the volume of a sphere is:${(4/3)\\pi R^{3}}$.\n",
        "\n",
        "Let us assume that the only force acting is gravity. Then, as first demonstrated by Newton, and can easily be demonstrated using the divergence theorem, the acceleration of gravity at any given distance $R$ from the center of the sphere depends only upon the total mass contained within $R$. The consequence of this result is that if one imagined breaking the sphere up into a series of concentric shells, each shell would collapse only subsequent to the shells interior to it, and no shells cross during collapse. As a result, the free-fall time of a massless particle at $R$ can be expressed solely in terms of the total mass $M$ interior to it. In terms of the average density interior to $R$, the free-fall time is:\n",
        "\n",
        "### $t_{\\text{ff}}={\\sqrt {\\frac {3\\pi }{32G\\rho_{berries}}}}$ \n",
        "\""
      ]
    },
    {
      "cell_type": "code",
      "metadata": {
        "colab": {
          "base_uri": "https://localhost:8080/"
        },
        "id": "SaWNYJl5stTN",
        "outputId": "f3eaac7a-a70e-41f6-b824-ca05c7c40c95"
      },
      "source": [
        "tff=np.sqrt(3*np.pi/(32*G*rho))\n",
        "print(\"the time it would take for it to collapse under its own gravity if there were no other forces: \"+ str(round(tff/60))+ \" minutes.\")"
      ],
      "execution_count": null,
      "outputs": [
        {
          "output_type": "stream",
          "text": [
            "the time it would take for it to collapse under its own gravity if there were no other forces: 42 minutes.\n"
          ],
          "name": "stdout"
        }
      ]
    },
    {
      "cell_type": "markdown",
      "metadata": {
        "id": "a80f8r-L7qui"
      },
      "source": [
        "# Atmosphere\n",
        "For planetary atmospheres, scale height is the increase in altitude for which the atmospheric pressure decreases by a factor of e. The scale height remains constant for a particular temperature.\n",
        "\n",
        "* ### $h_{Earth}= 8.5$ km\n",
        "* ### $P(z) = P(0) e^{-z/h} $\n",
        "* ### $h = \\frac{kT}{mg_{pulp}} $"
      ]
    },
    {
      "cell_type": "code",
      "metadata": {
        "id": "XsLF9FwUn9SO",
        "colab": {
          "base_uri": "https://localhost:8080/"
        },
        "outputId": "ebbde8b2-5603-444a-efa2-8288655600c9"
      },
      "source": [
        "k =  1.38* 10**(-23)\n",
        "m = k*250/8.5\n",
        "T = 250\n",
        "h =k*T/(m*g_pulp)\n",
        "print(\"The scale height would be: \"+ str(round(h,2))+\" km.\")"
      ],
      "execution_count": null,
      "outputs": [
        {
          "output_type": "stream",
          "text": [
            "The scale height would be: 5.37 km.\n"
          ],
          "name": "stdout"
        }
      ]
    },
    {
      "cell_type": "markdown",
      "metadata": {
        "id": "iN8X5nrnZwx_"
      },
      "source": [
        "### The atmospheric mass is computed using the formula:\n",
        "\n",
        "### $M = \\rho 4 \\pi R_{atm}^3 / 3$\n",
        "\n",
        "A spherical shell has a formula to the volume which is computed using the volume element of a sphere:\n",
        "\n",
        "### $V = \\int_0 ^\\pi d \\theta \\int_0^{2 \\pi} d\\phi \\int_{R_{pulp}}^{R_{pulp}+h} r^2 dr = 4 \\pi \\frac{(R_{pulp}+h)^3-R_{pulp}^3}{3}$"
      ]
    },
    {
      "cell_type": "code",
      "metadata": {
        "id": "wmKb320DT0n_"
      },
      "source": [
        "r_atm0=(R_pulp+h*1000)\n",
        "r_shell3= (r_atm0**3) - R_pulp**3"
      ],
      "execution_count": 22,
      "outputs": []
    },
    {
      "cell_type": "code",
      "metadata": {
        "id": "naxqlrVQ-eWe",
        "colab": {
          "base_uri": "https://localhost:8080/"
        },
        "outputId": "39101724-a058-4e63-997a-4b7ee06c1f74"
      },
      "source": [
        "M_0=(rho*4*np.pi*(r_shell3))/3\n",
        "print(\"The mass of the air made of berries is: \"+str(round(M_0,2))+' kg')"
      ],
      "execution_count": 23,
      "outputs": [
        {
          "output_type": "stream",
          "text": [
            "The mass of the air made of berries is: 1.5143192508776587e+21 kg\n"
          ],
          "name": "stdout"
        }
      ]
    },
    {
      "cell_type": "markdown",
      "metadata": {
        "id": "t1T9VvVcuyIh"
      },
      "source": [
        "## Optical depth\n",
        "\n",
        "### $\\tau \\propto h$"
      ]
    },
    {
      "cell_type": "code",
      "metadata": {
        "id": "CShPPU0Y_L6E"
      },
      "source": [
        "t_earth = 8.5\n",
        "t_berries=h/t_earth\n",
        "print(\"Optical depth: \"+str(round(1/t_earth,2)*100)+\"% of Earth's\")"
      ],
      "execution_count": null,
      "outputs": []
    },
    {
      "cell_type": "markdown",
      "metadata": {
        "id": "-tJbQJHLxgjy"
      },
      "source": [
        "## Energy\n",
        "\n",
        "If we are integrating from the potential energy $U = -GMm/r$, the total energy with a sphere would be:\n",
        "\n",
        "### $\\int \\frac{GMm}{r}dV= 4 \\pi \\int_{0}^{R} \\frac{(4 \\pi r^2 \\rho)(4\\pi r^3 /3)}{r}dr = \\frac{64 \\pi^3 G \\rho^2}{15}R^5$\n",
        "\n",
        "where m is the mass of the planet's surface."
      ]
    },
    {
      "cell_type": "code",
      "metadata": {
        "colab": {
          "base_uri": "https://localhost:8080/"
        },
        "id": "i4gsVMhNXWZ5",
        "outputId": "b50d27f8-f24c-4003-ecc3-2cff132c42b9"
      },
      "source": [
        "E = 64*(np.pi**3)*G*((rho**2)*(R**5)-(1000)*R_pulp**5)/15\n",
        "print(\"The energy released would be \"+ str(E)+' J.')"
      ],
      "execution_count": null,
      "outputs": [
        {
          "output_type": "stream",
          "text": [
            "The energy released would be 4.536164163121074e+31 J.\n"
          ],
          "name": "stdout"
        }
      ]
    },
    {
      "cell_type": "markdown",
      "metadata": {
        "id": "gYg6cnW6C2ZI"
      },
      "source": [
        "## The core\n",
        "\n",
        "### $\\nabla P = F$\n",
        "\n",
        "F is the gravitational force.\n",
        "For a spherical shape this equation becomes:\n",
        "\n",
        "### $\\frac{dP}{dr} = - \\frac{GM \\rho}{r^2}$\n",
        "\n",
        "###  $\\frac{dP}{dr} = - \\frac{GM}{r^2} \\frac{3M}{4 \\pi r^3}$\n",
        "\n",
        "### $P = \\frac{3GM^2}{16 \\pi} \\left( \\frac{1}{R^4} - \\frac{1}{r^4}\\right)$"
      ]
    },
    {
      "cell_type": "markdown",
      "metadata": {
        "id": "p6Le76JQT0Sb"
      },
      "source": [
        "## Conservation of angular momentum\n",
        "\n",
        "$\\frac{2}{5}MR_1^2 \\frac{2 \\pi}{T_1} = \\frac{2}{5}MR_2^2 \\frac{2 \\pi}{T_2}$\n",
        "\n",
        "### $T_2 = \\frac{R_2}{R_1} T_1$\n"
      ]
    },
    {
      "cell_type": "code",
      "metadata": {
        "id": "5sce0Fu9DqTm",
        "colab": {
          "base_uri": "https://localhost:8080/"
        },
        "outputId": "e19ff16c-70df-47d2-a2e5-7a40d11ea513"
      },
      "source": [
        "T_berry=((R_pulp/R)**2)*24\n",
        "T_berry\n",
        "\n",
        "print(\"One day in the planet lasts: \"+ str(round(T_berry,1))+\" hours.\")"
      ],
      "execution_count": 37,
      "outputs": [
        {
          "output_type": "stream",
          "text": [
            "One day in the planet lasts: 18.9 hours.\n"
          ],
          "name": "stdout"
        }
      ]
    }
  ]
}